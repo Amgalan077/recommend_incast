{
 "cells": [
  {
   "cell_type": "code",
   "execution_count": 7,
   "metadata": {
    "tags": []
   },
   "outputs": [],
   "source": [
    "import torch\n",
    "from transformers import CLIPImageProcessor, CLIPModel, CLIPProcessor\n",
    "from PIL import Image\n",
    "import os\n",
    "import numpy as np\n",
    "import time\n",
    "import random\n",
    "import cv2\n",
    "import faiss\n",
    "import pandas as pd\n",
    "import joblib"
   ]
  },
  {
   "cell_type": "code",
   "execution_count": 2,
   "metadata": {
    "tags": []
   },
   "outputs": [],
   "source": [
    "model_ID = \"openai/clip-vit-base-patch32\"\n",
    "model = CLIPModel.from_pretrained(model_ID)\n",
    "preprocess = CLIPImageProcessor.from_pretrained(model_ID)\n",
    "processor = CLIPProcessor.from_pretrained(model_ID)"
   ]
  },
  {
   "cell_type": "code",
   "execution_count": 3,
   "metadata": {
    "tags": []
   },
   "outputs": [],
   "source": [
    "def load_and_preprocess_image_cv(image_path):\n",
    "    image = cv2.imread(image_path)\n",
    "    # image = cv2.cvtColor(image, cv2.COLOR_BGR2RGB)\n",
    "    image = preprocess(image, return_tensors=\"pt\")\n",
    "    return image"
   ]
  },
  {
   "cell_type": "code",
   "execution_count": 5,
   "metadata": {
    "tags": []
   },
   "outputs": [],
   "source": [
    "image_folder = 'photos'\n",
    "image_files = os.listdir(image_folder)\n",
    "image_embeddings = []\n",
    "\n",
    "for image_file in image_files:\n",
    "    try:\n",
    "        image_path = os.path.join(image_folder, image_file)\n",
    "        image = load_and_preprocess_image_cv(image_path)[\"pixel_values\"]\n",
    "        with torch.no_grad():\n",
    "            image_embedding = model.get_image_features(image)\n",
    "        image_embeddings.append(image_embedding)\n",
    "    except:\n",
    "        continue"
   ]
  },
  {
   "cell_type": "code",
   "execution_count": 12,
   "metadata": {
    "tags": []
   },
   "outputs": [],
   "source": [
    "# joblib.dump(image_embeddings, 'image_embeddings.joblib')"
   ]
  },
  {
   "cell_type": "code",
   "execution_count": 158,
   "metadata": {
    "tags": []
   },
   "outputs": [],
   "source": [
    "df = pd.read_csv('df.csv')\n",
    "df['Vector'] = df['Vector'].apply(lambda x: np.fromstring(x, sep=' '))\n",
    "books_vector = np.loadtxt('vectors.txt')\n",
    "index = faiss.IndexFlatIP(books_vector.shape[1])\n",
    "index.add(books_vector)"
   ]
  },
  {
   "cell_type": "code",
   "execution_count": null,
   "metadata": {
    "tags": []
   },
   "outputs": [],
   "source": []
  },
  {
   "cell_type": "code",
   "execution_count": 428,
   "metadata": {
    "tags": []
   },
   "outputs": [],
   "source": [
    "def recommendation(array: list, neighbours_clip: int = 17, neighbours_discription:int = 5) -> list:\n",
    "    \"\"\"\n",
    "    array - list liked photo\n",
    "    neighbours_clip - count predictions with CLIP\n",
    "    neighbours_discription - count predictions with discription\n",
    "    \"\"\"\n",
    "    recarray = []\n",
    "    for img in array:\n",
    "        path = os.path.join('photos', img)\n",
    "        image = load_and_preprocess_image_cv(path)[\"pixel_values\"]\n",
    "        with torch.no_grad():\n",
    "            embedding = model.get_image_features(image)\n",
    "        similarity_scores = [torch.nn.functional.cosine_similarity(embedding, image_embedding) for image_embedding in image_embeddings]\n",
    "        top_n_similarities, top_n_indices = torch.topk(torch.tensor(similarity_scores), k=neighbours_clip)\n",
    "        top = np.array(image_files)[top_n_indices.tolist()].tolist()[1:]\n",
    "        recarray.extend(top)\n",
    "    for imgdis in array:\n",
    "        user_text_pred = df[df['Image Name'] == imgdis]['Vector'].values[0]\n",
    "        D, I = index.search(user_text_pred.reshape(1, -1), k=neighbours_discription)\n",
    "        recarray.extend(df['Image Name'].iloc[I[0][1:]].values)\n",
    "    \n",
    "    recarray = list(set(recarray))\n",
    "    return random.sample(recarray, 20)\n",
    "    # return recarray"
   ]
  },
  {
   "cell_type": "code",
   "execution_count": null,
   "metadata": {
    "tags": []
   },
   "outputs": [],
   "source": []
  },
  {
   "cell_type": "code",
   "execution_count": null,
   "metadata": {
    "tags": []
   },
   "outputs": [],
   "source": []
  },
  {
   "cell_type": "code",
   "execution_count": null,
   "metadata": {
    "tags": []
   },
   "outputs": [],
   "source": []
  },
  {
   "cell_type": "code",
   "execution_count": 382,
   "metadata": {
    "tags": []
   },
   "outputs": [],
   "source": [
    "our_data = pd.read_csv('our_data.csv')\n",
    "def sample_images(row, image_files, n=250):\n",
    "    return random.sample(image_files, n)\n",
    "our_data['recommended'] = our_data.apply(lambda row: sample_images(row, image_files), axis=1)"
   ]
  },
  {
   "cell_type": "code",
   "execution_count": null,
   "metadata": {
    "tags": []
   },
   "outputs": [],
   "source": []
  },
  {
   "cell_type": "code",
   "execution_count": 383,
   "metadata": {
    "tags": []
   },
   "outputs": [],
   "source": [
    "my_rec = random.sample(image_files, 72)"
   ]
  },
  {
   "cell_type": "code",
   "execution_count": 392,
   "metadata": {
    "tags": []
   },
   "outputs": [],
   "source": [
    "def intersection(rec:list) -> int:\n",
    "    rec = set(rec)\n",
    "    listrec = []\n",
    "    for i in our_data['recommended']:\n",
    "        listrec.append(len(set(my_rec) & set(i)))\n",
    "    most_relevant = np.array(listrec).argsort()[-1]\n",
    "    return our_data.iloc[most_relevant]"
   ]
  },
  {
   "cell_type": "code",
   "execution_count": 400,
   "metadata": {
    "tags": []
   },
   "outputs": [
    {
     "data": {
      "text/plain": [
       "Ваше ФИО                            Зернов Владислав Александрович\n",
       "Дата рождения                                           12.03.1996\n",
       "Укажите город                                              Воронеж\n",
       "Ваш пол                                                          М\n",
       "about            ['Фастфуд', 'Поддерживаю чистоту и порядок, Вр...\n",
       "recommended      [photo_2210_22-02-2022_22-59-57.jpg, photo_235...\n",
       "Name: 29, dtype: object"
      ]
     },
     "execution_count": 400,
     "metadata": {},
     "output_type": "execute_result"
    }
   ],
   "source": [
    "intersection(my_rec)"
   ]
  },
  {
   "cell_type": "code",
   "execution_count": 399,
   "metadata": {
    "tags": []
   },
   "outputs": [
    {
     "data": {
      "text/plain": [
       "17"
      ]
     },
     "execution_count": 399,
     "metadata": {},
     "output_type": "execute_result"
    }
   ],
   "source": [
    "len(set(our_data.iloc[intersection(my_rec).name]['recommended']) & set(my_rec))"
   ]
  },
  {
   "cell_type": "code",
   "execution_count": 25,
   "metadata": {},
   "outputs": [
    {
     "data": {
      "text/plain": [
       "False"
      ]
     },
     "execution_count": 25,
     "metadata": {},
     "output_type": "execute_result"
    }
   ],
   "source": [
    "rec_images = []\n",
    "rec_images == 0"
   ]
  },
  {
   "cell_type": "code",
   "execution_count": 24,
   "metadata": {
    "tags": []
   },
   "outputs": [
    {
     "ename": "SyntaxError",
     "evalue": "invalid syntax (2043753684.py, line 1)",
     "output_type": "error",
     "traceback": [
      "\u001b[0;36m  Cell \u001b[0;32mIn[24], line 1\u001b[0;36m\u001b[0m\n\u001b[0;31m    **rec_images\u001b[0m\n\u001b[0m    ^\u001b[0m\n\u001b[0;31mSyntaxError\u001b[0m\u001b[0;31m:\u001b[0m invalid syntax\n"
     ]
    }
   ],
   "source": [
    "*rec_images"
   ]
  },
  {
   "cell_type": "code",
   "execution_count": 29,
   "metadata": {
    "tags": []
   },
   "outputs": [],
   "source": [
    "rec_images.extend([323])"
   ]
  },
  {
   "cell_type": "code",
   "execution_count": 30,
   "metadata": {
    "tags": []
   },
   "outputs": [
    {
     "data": {
      "text/plain": [
       "[323]"
      ]
     },
     "execution_count": 30,
     "metadata": {},
     "output_type": "execute_result"
    }
   ],
   "source": [
    "rec_images"
   ]
  },
  {
   "cell_type": "code",
   "execution_count": null,
   "metadata": {},
   "outputs": [],
   "source": [
    "0:\"photo_847_19-03-2020_19-10-40.jpg\"\n",
    "1:\"photo_11_15-07-2019_20-41-33.jpg\"\n",
    "2:\"photo_1355_19-10-2020_15-11-33.jpg\"\n",
    "3:\"photo_523_07-12-2019_09-00-13.jpg\"\n",
    "4:\"photo_401_29-10-2019_09-42-47.jpg\"\n",
    "5:\"photo_830_15-03-2020_09-45-44.jpg\"\n",
    "6:\"photo_1784_26-05-2021_15-41-57.jpg\"\n",
    "7:\"photo_2480_14-08-2022_13-16-00.jpg\"\n",
    "8:\"photo_1066_23-06-2020_09-37-23.jpg\"\n",
    "9:\"photo_659_14-01-2020_11-01-19.jpg\"\n",
    "10:\"photo_1484_17-12-2020_01-01-11.jpg\"\n",
    "11:\"photo_2426_24-06-2022_16-23-47.jpg\"\n",
    "12:\"photo_2157_29-12-2021_19-25-21.jpg\"\n",
    "13:\"photo_1136_13-07-2020_17-05-38.jpg\"\n",
    "14:\"photo_2366_05-06-2022_17-46-51.jpg\"\n",
    "15:\"photo_1420_26-11-2020_10-15-47.jpg\"\n",
    "16:\"photo_142_18-08-2019_17-15-33.jpg\"\n",
    "17:\"photo_2447_07-07-2022_11-09-51.jpg\"\n",
    "18:\"photo_1181_28-07-2020_21-34-59.jpg\"\n",
    "19:\"photo_280_24-09-2019_16-17-54.jpg\""
   ]
  }
 ],
 "metadata": {
  "kernelspec": {
   "display_name": "Python 3 (ipykernel)",
   "language": "python",
   "name": "python3"
  },
  "language_info": {
   "codemirror_mode": {
    "name": "ipython",
    "version": 3
   },
   "file_extension": ".py",
   "mimetype": "text/x-python",
   "name": "python",
   "nbconvert_exporter": "python",
   "pygments_lexer": "ipython3",
   "version": "3.11.4"
  }
 },
 "nbformat": 4,
 "nbformat_minor": 4
}
